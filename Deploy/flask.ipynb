{
 "cells": [
  {
   "cell_type": "code",
   "execution_count": null,
   "metadata": {},
   "outputs": [
    {
     "name": "stdout",
     "output_type": "stream",
     "text": [
      " * Serving Flask app \"__main__\" (lazy loading)\n",
      " * Environment: production\n",
      "   WARNING: This is a development server. Do not use it in a production deployment.\n",
      "   Use a production WSGI server instead.\n",
      " * Debug mode: off\n"
     ]
    },
    {
     "name": "stderr",
     "output_type": "stream",
     "text": [
      " * Running on http://localhost:7004/ (Press CTRL+C to quit)\n",
      "127.0.0.1 - - [13/Mar/2022 15:50:26] \"\u001b[37mGET / HTTP/1.1\u001b[0m\" 200 -\n"
     ]
    }
   ],
   "source": [
    "#from tensorflow.keras.preprocessing.text import Tokenizer\n",
    "from tensorflow.keras.models import load_model\n",
    "from tensorflow.keras.preprocessing.sequence import pad_sequences\n",
    "import numpy as np\n",
    "\n",
    "from flask import Flask,render_template,url_for,request\n",
    "import pandas as pd \n",
    "import joblib\n",
    "\n",
    "# load the model from disk\n",
    "SEQUENCE_LENGTH = 1042\n",
    "EMBEDDING_SIZE = 100\n",
    "\n",
    "lstm = load_model(\"LSTM1.h5\")\n",
    "int2label = {0:\"Buyable\",1:\"Not Buyable\"}\n",
    "tokenizer = joblib.load(\"tk.pkl\")\n",
    "\n",
    "app = Flask(__name__)\n",
    "\n",
    "@app.route('/')\n",
    "def home():\n",
    "\treturn render_template('home1.html')\n",
    "\n",
    "@app.route('/predict',methods=['POST'])\n",
    "def predict():\n",
    "\t\n",
    "\n",
    "\tif request.method == 'POST':\n",
    "\t\tmessage = request.form['message']\n",
    "\t\tprint(message)\n",
    "\t\t#tokenizer.fit_on_texts(message)\n",
    "\t\tx = tokenizer.texts_to_sequences([message])\n",
    "\t\t#x = np.array(x)\n",
    "\t\tx = pad_sequences(x, maxlen=SEQUENCE_LENGTH)\n",
    "\t\tprediction = lstm.predict(x)[0]\n",
    "\t\tpredict = int2label[np.argmax(prediction)]\n",
    "\t\tprint(predict)\n",
    "\t\treturn render_template('result.html',prediction = predict)\n",
    "\n",
    "\n",
    "\n",
    "if __name__ == '__main__':\n",
    "\tapp.run(host=\"localhost\", port=7004)"
   ]
  },
  {
   "cell_type": "code",
   "execution_count": null,
   "metadata": {},
   "outputs": [],
   "source": []
  }
 ],
 "metadata": {
  "kernelspec": {
   "display_name": "Python 3",
   "language": "python",
   "name": "python3"
  },
  "language_info": {
   "codemirror_mode": {
    "name": "ipython",
    "version": 3
   },
   "file_extension": ".py",
   "mimetype": "text/x-python",
   "name": "python",
   "nbconvert_exporter": "python",
   "pygments_lexer": "ipython3",
   "version": "3.8.5"
  }
 },
 "nbformat": 4,
 "nbformat_minor": 4
}
